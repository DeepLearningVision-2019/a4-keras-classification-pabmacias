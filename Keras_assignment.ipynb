{
 "cells": [
  {
   "cell_type": "markdown",
   "metadata": {
    "colab_type": "text",
    "id": "UG01G-bUqq7I"
   },
   "source": [
    "# Classify different data sets"
   ]
  },
  {
   "cell_type": "markdown",
   "metadata": {
    "colab_type": "text",
    "id": "NiWawVeCqq7M"
   },
   "source": [
    "### Basic includes"
   ]
  },
  {
   "cell_type": "code",
   "execution_count": 0,
   "metadata": {
    "colab": {},
    "colab_type": "code",
    "id": "Ti1tbID_qq7P"
   },
   "outputs": [],
   "source": [
    "# Using pandas to load the csv file\n",
    "import pandas as pd\n",
    "\n",
    "import numpy as np\n",
    "import matplotlib.pyplot as plt\n",
    "\n",
    "from keras import models \n",
    "from keras import layers \n",
    "from keras import callbacks\n",
    "from keras.utils import to_categorical\n",
    "\n",
    "# reuters and fashin mnist data set from keras\n",
    "from keras.datasets import reuters\n",
    "from keras.datasets import fashion_mnist\n",
    "\n",
    "# needed to preprocess text\n",
    "from keras.preprocessing.text import Tokenizer"
   ]
  },
  {
   "cell_type": "markdown",
   "metadata": {
    "colab_type": "text",
    "id": "8uFYc-MOqq7V"
   },
   "source": [
    "### Classify the Fashion Mnist\n",
    "\n",
    "---"
   ]
  },
  {
   "cell_type": "code",
   "execution_count": 98,
   "metadata": {
    "colab": {
     "base_uri": "https://localhost:8080/",
     "height": 396
    },
    "colab_type": "code",
    "id": "qO8gZL0Bqq7X",
    "outputId": "e26f7609-111c-4a2a-b2b6-14d5e18cd3d8"
   },
   "outputs": [
    {
     "name": "stdout",
     "output_type": "stream",
     "text": [
      "(60000, 28, 28)\n"
     ]
    },
    {
     "data": {
      "text/plain": [
       "<matplotlib.image.AxesImage at 0x7fa36006cc88>"
      ]
     },
     "execution_count": 98,
     "metadata": {
      "tags": []
     },
     "output_type": "execute_result"
    },
    {
     "data": {
      "image/png": "[encoded data removed]",
      "text/plain": [
       "<Figure size 576x396 with 1 Axes>"
      ]
     },
     "metadata": {
      "tags": []
     },
     "output_type": "display_data"
    }
   ],
   "source": [
    "(fashion_train_data, fashion_train_labels), (fashion_test_data, fashion_test_labels) = fashion_mnist.load_data()\n",
    "\n",
    "print(fashion_train_data.shape)\n",
    "\n",
    "test_index = 10\n",
    "\n",
    "plt.title(\"Label: \" + str(fashion_train_labels[test_index]))\n",
    "plt.imshow(fashion_train_data[test_index], cmap=\"gray\")"
   ]
  },
  {
   "cell_type": "markdown",
   "metadata": {
    "colab_type": "text",
    "id": "K1quubPAqq7f"
   },
   "source": [
    "#### TO DO: Preprocess the data\n",
    "\n",
    "1. Normalize the input data set\n",
    "2. Perform one hot encoding\n",
    "3. Create a train, test, and validation set"
   ]
  },
  {
   "cell_type": "code",
   "execution_count": 0,
   "metadata": {
    "colab": {},
    "colab_type": "code",
    "id": "IUHle0MmnoMI"
   },
   "outputs": [],
   "source": [
    "fashion_train_data = fashion_train_data.reshape((60000, 28 * 28))\n",
    "fashion_train_data = fashion_train_data.astype('float32') / 255\n",
    "\n",
    "fashion_test_data = fashion_test_data.reshape((10000, 28 * 28)) \n",
    "fashion_test_data = fashion_test_data.astype('float32') / 255\n",
    "\n",
    "fashion_train_labels = to_categorical(fashion_train_labels) \n",
    "fashion_test_labels = to_categorical(fashion_test_labels)"
   ]
  },
  {
   "cell_type": "markdown",
   "metadata": {
    "colab_type": "text",
    "id": "NVbseHRVqq7g"
   },
   "source": [
    "#### TO DO: Define and train a network, then plot the accuracy of the training, validation, and testing\n",
    "\n",
    "1. Use a validation set\n",
    "2. Propose and train a network\n",
    "3. Print the history of the training\n",
    "4. Evaluate with a test set"
   ]
  },
  {
   "cell_type": "code",
   "execution_count": 100,
   "metadata": {
    "colab": {
     "base_uri": "https://localhost:8080/",
     "height": 238
    },
    "colab_type": "code",
    "id": "lkZxFqYZowm2",
    "outputId": "7ad83f5c-6453-4bb0-bb1b-1a3704abadc2"
   },
   "outputs": [
    {
     "name": "stdout",
     "output_type": "stream",
     "text": [
      "_________________________________________________________________\n",
      "Layer (type)                 Output Shape              Param #   \n",
      "=================================================================\n",
      "dense_46 (Dense)             (None, 64)                50240     \n",
      "_________________________________________________________________\n",
      "dense_47 (Dense)             (None, 32)                2080      \n",
      "_________________________________________________________________\n",
      "dense_48 (Dense)             (None, 10)                330       \n",
      "=================================================================\n",
      "Total params: 52,650\n",
      "Trainable params: 52,650\n",
      "Non-trainable params: 0\n",
      "_________________________________________________________________\n"
     ]
    }
   ],
   "source": [
    "network = models.Sequential()\n",
    "\n",
    "network.add(layers.Dense(64, activation='sigmoid', input_shape=(28 * 28,))) \n",
    "network.add(layers.Dense(32, activation='sigmoid'))\n",
    "network.add(layers.Dense(10, activation='softmax'))\n",
    "\n",
    "network.compile(optimizer='rmsprop', loss='categorical_crossentropy', metrics=['accuracy'])\n",
    "\n",
    "network.summary()"
   ]
  },
  {
   "cell_type": "code",
   "execution_count": 101,
   "metadata": {
    "colab": {
     "base_uri": "https://localhost:8080/",
     "height": 731
    },
    "colab_type": "code",
    "id": "JtZxAEJnpKW4",
    "outputId": "4678907b-61b9-49d5-8478-cbc20fb5ab52"
   },
   "outputs": [
    {
     "name": "stdout",
     "output_type": "stream",
     "text": [
      "Train on 48000 samples, validate on 12000 samples\n",
      "Epoch 1/50\n",
      " - 4s - loss: 0.7833 - acc: 0.7617 - val_loss: 0.4673 - val_acc: 0.8359\n",
      "Epoch 2/50\n",
      " - 3s - loss: 0.4315 - acc: 0.8464 - val_loss: 0.4236 - val_acc: 0.8458\n",
      "Epoch 3/50\n",
      " - 3s - loss: 0.3901 - acc: 0.8592 - val_loss: 0.3808 - val_acc: 0.8612\n",
      "Epoch 4/50\n",
      " - 3s - loss: 0.3649 - acc: 0.8682 - val_loss: 0.3882 - val_acc: 0.8558\n",
      "Epoch 5/50\n",
      " - 3s - loss: 0.3495 - acc: 0.8745 - val_loss: 0.3659 - val_acc: 0.8672\n",
      "Epoch 6/50\n",
      " - 3s - loss: 0.3358 - acc: 0.8792 - val_loss: 0.3507 - val_acc: 0.8718\n",
      "Epoch 7/50\n",
      " - 3s - loss: 0.3230 - acc: 0.8843 - val_loss: 0.3519 - val_acc: 0.8741\n",
      "Epoch 8/50\n",
      " - 3s - loss: 0.3133 - acc: 0.8874 - val_loss: 0.3401 - val_acc: 0.8777\n",
      "Epoch 9/50\n",
      " - 3s - loss: 0.3054 - acc: 0.8893 - val_loss: 0.3529 - val_acc: 0.8789\n",
      "Epoch 10/50\n",
      " - 3s - loss: 0.2971 - acc: 0.8929 - val_loss: 0.3304 - val_acc: 0.8850\n",
      "Epoch 11/50\n",
      " - 3s - loss: 0.2892 - acc: 0.8951 - val_loss: 0.3385 - val_acc: 0.8829\n",
      "Epoch 12/50\n",
      " - 3s - loss: 0.2837 - acc: 0.8979 - val_loss: 0.3295 - val_acc: 0.8819\n",
      "Epoch 13/50\n",
      " - 3s - loss: 0.2769 - acc: 0.8993 - val_loss: 0.3296 - val_acc: 0.8803\n",
      "Epoch 14/50\n",
      " - 3s - loss: 0.2714 - acc: 0.9025 - val_loss: 0.3226 - val_acc: 0.8859\n",
      "Epoch 15/50\n",
      " - 3s - loss: 0.2657 - acc: 0.9028 - val_loss: 0.3253 - val_acc: 0.8845\n",
      "Epoch 16/50\n",
      " - 3s - loss: 0.2618 - acc: 0.9037 - val_loss: 0.3260 - val_acc: 0.8848\n",
      "Epoch 17/50\n",
      " - 3s - loss: 0.2569 - acc: 0.9071 - val_loss: 0.3300 - val_acc: 0.8844\n",
      "Epoch 18/50\n",
      " - 3s - loss: 0.2520 - acc: 0.9090 - val_loss: 0.3373 - val_acc: 0.8824\n",
      "Epoch 19/50\n",
      " - 3s - loss: 0.2480 - acc: 0.9107 - val_loss: 0.3364 - val_acc: 0.8833\n",
      "10000/10000 [==============================] - 0s 28us/step\n",
      "\n",
      "test loss:  0.3629855122923851 test accuracy:  0.8724\n"
     ]
    }
   ],
   "source": [
    "early_stop = callbacks.EarlyStopping(monitor='val_loss', patience=5)\n",
    "network.compile(loss='categorical_crossentropy', \n",
    "              optimizer='rmsprop',\n",
    "              metrics=['accuracy'])\n",
    "\n",
    "history = network.fit(fashion_train_data, fashion_train_labels,\n",
    "          epochs=50,\n",
    "          validation_split=0.2,\n",
    "          callbacks=[early_stop], \n",
    "          verbose=2)\n",
    "\n",
    "test_loss, test_acc = network.evaluate(fashion_test_data, fashion_test_labels)\n",
    "\n",
    "print()\n",
    "print(\"test loss: \", test_loss, \"test accuracy: \", test_acc)"
   ]
  },
  {
   "cell_type": "markdown",
   "metadata": {
    "colab_type": "text",
    "id": "HzpbZW7Nqq7i"
   },
   "source": [
    "## Classifying newswires\n",
    "\n",
    "---\n",
    "\n",
    "Build a network to classify Reuters newswires into 46 different mutually-exclusive topics."
   ]
  },
  {
   "cell_type": "markdown",
   "metadata": {
    "colab_type": "text",
    "id": "2IkzyAkpqq7j"
   },
   "source": [
    "### Load and review the data"
   ]
  },
  {
   "cell_type": "code",
   "execution_count": 102,
   "metadata": {
    "colab": {
     "base_uri": "https://localhost:8080/",
     "height": 122
    },
    "colab_type": "code",
    "id": "eOU2aScyqq7k",
    "outputId": "458270f2-d383-4295-ee68-f02ed759fc28"
   },
   "outputs": [
    {
     "name": "stdout",
     "output_type": "stream",
     "text": [
      "(8982,)\n",
      "(8982,)\n",
      "[1, 2, 2, 8, 43, 10, 447, 5, 25, 207, 270, 5, 3095, 111, 16, 369, 186, 90, 67, 7, 89, 5, 19, 102, 6, 19, 124, 15, 90, 67, 84, 22, 482, 26, 7, 48, 4, 49, 8, 864, 39, 209, 154, 6, 151, 6, 83, 11, 15, 22, 155, 11, 15, 7, 48, 9, 4579, 1005, 504, 6, 258, 6, 272, 11, 15, 22, 134, 44, 11, 15, 16, 8, 197, 1245, 90, 67, 52, 29, 209, 30, 32, 132, 6, 109, 15, 17, 12]\n",
      "3\n",
      "{0, 1, 2, 3, 4, 5, 6, 7, 8, 9, 10, 11, 12, 13, 14, 15, 16, 17, 18, 19, 20, 21, 22, 23, 24, 25, 26, 27, 28, 29, 30, 31, 32, 33, 34, 35, 36, 37, 38, 39, 40, 41, 42, 43, 44, 45}\n"
     ]
    }
   ],
   "source": [
    "(reuters_train_data, reuters_train_labels), (reuters_test_data, reuters_test_labels) = reuters.load_data(num_words=10000)\n",
    "\n",
    "print(reuters_train_data.shape)\n",
    "print(reuters_train_labels.shape)\n",
    "print(reuters_train_data[0])\n",
    "print(reuters_train_labels[0])\n",
    "\n",
    "print(set(reuters_train_labels))"
   ]
  },
  {
   "cell_type": "markdown",
   "metadata": {
    "colab_type": "text",
    "id": "JTyYzwJJqq7o"
   },
   "source": [
    "Load the word index to decode the train data."
   ]
  },
  {
   "cell_type": "code",
   "execution_count": 103,
   "metadata": {
    "colab": {
     "base_uri": "https://localhost:8080/",
     "height": 54
    },
    "colab_type": "code",
    "id": "ztmYn93yqq7p",
    "outputId": "26cf5484-573a-4d8c-b3da-889dd2e2fdcd"
   },
   "outputs": [
    {
     "name": "stdout",
     "output_type": "stream",
     "text": [
      "<START> <UNKNOWN> <UNKNOWN> said as a result of its december acquisition of space co it expects earnings per share in 1987 of 1 15 to 1 30 dlrs per share up from 70 cts in 1986 the company said pretax net should rise to nine to 10 mln dlrs from six mln dlrs in 1986 and rental operation revenues to 19 to 22 mln dlrs from 12 5 mln dlrs it said cash flow per share this year should be 2 50 to three dlrs reuter 3\n"
     ]
    }
   ],
   "source": [
    "word_index = reuters.get_word_index()\n",
    "\n",
    "reverse_index = dict([(value+3, key) for (key, value) in word_index.items()])\n",
    "\n",
    "reverse_index[0] = \"<PAD>\"\n",
    "reverse_index[1] = \"<START>\"\n",
    "reverse_index[2] = \"<UNKNOWN>\"  # unknown\n",
    "reverse_index[3] = \"<UNUSED>\"\n",
    "\n",
    "decoded_review = ' '.join([reverse_index.get(i,'?') for i in reuters_train_data[0]])\n",
    "\n",
    "print(decoded_review)"
   ]
  },
  {
   "cell_type": "markdown",
   "metadata": {
    "colab_type": "text",
    "id": "yPsMcITNqq7s"
   },
   "source": [
    "#### TO DO: Preprocess the data\n",
    "\n",
    "1. Normalize the input data set\n",
    "2. Perform one hot encoding\n",
    "3. Create a train, test, and validation set"
   ]
  },
  {
   "cell_type": "code",
   "execution_count": 0,
   "metadata": {
    "colab": {},
    "colab_type": "code",
    "id": "qVzy4TtJvyMc"
   },
   "outputs": [],
   "source": [
    "tokenizer = Tokenizer(num_words=5000)\n",
    "train_data_token = tokenizer.sequences_to_matrix(reuters_train_data, mode='binary')\n",
    "test_data_token = tokenizer.sequences_to_matrix(reuters_test_data, mode='binary')\n",
    "\n",
    "num_classes = 46\n",
    "one_hot_train_labels = to_categorical(reuters_train_labels, num_classes)\n",
    "one_hot_test_labels = to_categorical(reuters_test_labels, num_classes)"
   ]
  },
  {
   "cell_type": "code",
   "execution_count": 105,
   "metadata": {
    "colab": {
     "base_uri": "https://localhost:8080/",
     "height": 306
    },
    "colab_type": "code",
    "id": "9xXnzzcjxN7_",
    "outputId": "9432406f-0b31-43d4-f945-6c92e286c858"
   },
   "outputs": [
    {
     "name": "stdout",
     "output_type": "stream",
     "text": [
      "_________________________________________________________________\n",
      "Layer (type)                 Output Shape              Param #   \n",
      "=================================================================\n",
      "dense_49 (Dense)             (None, 128)               640128    \n",
      "_________________________________________________________________\n",
      "dropout_3 (Dropout)          (None, 128)               0         \n",
      "_________________________________________________________________\n",
      "dense_50 (Dense)             (None, 64)                8256      \n",
      "_________________________________________________________________\n",
      "dropout_4 (Dropout)          (None, 64)                0         \n",
      "_________________________________________________________________\n",
      "dense_51 (Dense)             (None, 46)                2990      \n",
      "=================================================================\n",
      "Total params: 651,374\n",
      "Trainable params: 651,374\n",
      "Non-trainable params: 0\n",
      "_________________________________________________________________\n"
     ]
    }
   ],
   "source": [
    "model = models.Sequential()\n",
    "model.add(layers.Dense(128, activation='relu', input_dim=5000))\n",
    "model.add(layers.Dropout(0.3))\n",
    "model.add(layers.Dense(64, activation='relu'))\n",
    "model.add(layers.Dropout(0.3))\n",
    "model.add(layers.Dense(num_classes, activation='softmax'))\n",
    "model.summary()"
   ]
  },
  {
   "cell_type": "code",
   "execution_count": 106,
   "metadata": {
    "colab": {
     "base_uri": "https://localhost:8080/",
     "height": 646
    },
    "colab_type": "code",
    "id": "dtzsja87x8LR",
    "outputId": "42c6f6d5-edcf-4c1a-a42c-e63e7ec28240"
   },
   "outputs": [
    {
     "name": "stdout",
     "output_type": "stream",
     "text": [
      "Train on 7185 samples, validate on 1797 samples\n",
      "Epoch 1/40\n",
      " - 2s - loss: 2.5707 - acc: 0.4466 - val_loss: 1.6775 - val_acc: 0.6383\n",
      "Epoch 2/40\n",
      " - 1s - loss: 1.6056 - acc: 0.6468 - val_loss: 1.3646 - val_acc: 0.6939\n",
      "Epoch 3/40\n",
      " - 1s - loss: 1.3118 - acc: 0.7076 - val_loss: 1.2169 - val_acc: 0.7318\n",
      "Epoch 4/40\n",
      " - 1s - loss: 1.1140 - acc: 0.7520 - val_loss: 1.1405 - val_acc: 0.7468\n",
      "Epoch 5/40\n",
      " - 1s - loss: 0.9727 - acc: 0.7825 - val_loss: 1.0472 - val_acc: 0.7730\n",
      "Epoch 6/40\n",
      " - 1s - loss: 0.8599 - acc: 0.8043 - val_loss: 1.0144 - val_acc: 0.7780\n",
      "Epoch 7/40\n",
      " - 1s - loss: 0.7629 - acc: 0.8263 - val_loss: 0.9838 - val_acc: 0.7880\n",
      "Epoch 8/40\n",
      " - 1s - loss: 0.6774 - acc: 0.8438 - val_loss: 0.9579 - val_acc: 0.7941\n",
      "Epoch 9/40\n",
      " - 1s - loss: 0.6214 - acc: 0.8571 - val_loss: 0.9825 - val_acc: 0.7874\n",
      "Epoch 10/40\n",
      " - 1s - loss: 0.5662 - acc: 0.8685 - val_loss: 0.9389 - val_acc: 0.7974\n",
      "Epoch 11/40\n",
      " - 1s - loss: 0.4964 - acc: 0.8841 - val_loss: 0.9359 - val_acc: 0.8002\n",
      "Epoch 12/40\n",
      " - 1s - loss: 0.4589 - acc: 0.8953 - val_loss: 0.9358 - val_acc: 0.8047\n",
      "Epoch 13/40\n",
      " - 1s - loss: 0.4080 - acc: 0.9041 - val_loss: 0.9721 - val_acc: 0.7986\n",
      "Epoch 14/40\n",
      " - 1s - loss: 0.3800 - acc: 0.9081 - val_loss: 0.9477 - val_acc: 0.8041\n",
      "Epoch 15/40\n",
      " - 1s - loss: 0.3404 - acc: 0.9176 - val_loss: 1.0055 - val_acc: 0.7924\n",
      "Epoch 16/40\n",
      " - 1s - loss: 0.3214 - acc: 0.9267 - val_loss: 0.9751 - val_acc: 0.8047\n",
      "Epoch 17/40\n",
      " - 1s - loss: 0.2821 - acc: 0.9346 - val_loss: 0.9920 - val_acc: 0.8047\n",
      "2246/2246 [==============================] - 0s 83us/step\n",
      "test loss:  1.0233403933653318 test accuracy:  0.790293855743544\n"
     ]
    }
   ],
   "source": [
    "early_stop = callbacks.EarlyStopping(monitor='val_loss', patience=5)\n",
    "model.compile(loss='categorical_crossentropy', \n",
    "              optimizer='rmsprop',\n",
    "              metrics=['accuracy'])\n",
    "\n",
    "history = model.fit(train_data_token, one_hot_train_labels,\n",
    "          batch_size=512,\n",
    "          epochs=40,\n",
    "          validation_split=0.2,\n",
    "          callbacks=[early_stop], \n",
    "          verbose=2)\n",
    "\n",
    "test_loss, test_acc = model.evaluate(test_data_token, one_hot_test_labels)\n",
    "\n",
    "print(\"test loss: \", test_loss, \"test accuracy: \", test_acc)"
   ]
  },
  {
   "cell_type": "markdown",
   "metadata": {
    "colab_type": "text",
    "id": "S5c1XJqaqq7t"
   },
   "source": [
    "#### TO DO: Define and train a network, then plot the accuracy of the training, validation, and testing\n",
    "\n",
    "1. Use a validation set\n",
    "2. Propose and train a network\n",
    "3. Print the history of the training\n",
    "4. Evaluate with a test set"
   ]
  },
  {
   "cell_type": "markdown",
   "metadata": {
    "colab_type": "text",
    "id": "I0YPaIrWqq7u"
   },
   "source": [
    "## Predicting Student Admissions\n",
    "\n",
    "---\n",
    "\n",
    "Predict student admissions based on three pieces of data:\n",
    "\n",
    "- GRE Scores\n",
    "- GPA Scores\n",
    "- Class rank"
   ]
  },
  {
   "cell_type": "markdown",
   "metadata": {
    "colab_type": "text",
    "id": "8881J7zdqq7v"
   },
   "source": [
    "### Load and visualize the data"
   ]
  },
  {
   "cell_type": "code",
   "execution_count": 107,
   "metadata": {
    "colab": {
     "base_uri": "https://localhost:8080/",
     "height": 1105
    },
    "colab_type": "code",
    "id": "041DatCyqq7w",
    "outputId": "0fc19255-5a59-4308-b2c8-8404730947e1"
   },
   "outputs": [
    {
     "name": "stdout",
     "output_type": "stream",
     "text": [
      "     admit    gre   gpa  rank\n",
      "0        0  380.0  3.61   3.0\n",
      "1        1  660.0  3.67   3.0\n",
      "2        1  800.0  4.00   1.0\n",
      "3        1  640.0  3.19   4.0\n",
      "4        0  520.0  2.93   4.0\n",
      "5        1  760.0  3.00   2.0\n",
      "6        1  560.0  2.98   1.0\n",
      "7        0  400.0  3.08   2.0\n",
      "8        1  540.0  3.39   3.0\n",
      "9        0  700.0  3.92   2.0\n",
      "10       0  800.0  4.00   4.0\n",
      "11       0  440.0  3.22   1.0\n",
      "12       1  760.0  4.00   1.0\n",
      "13       0  700.0  3.08   2.0\n",
      "14       1  700.0  4.00   1.0\n",
      "15       0  480.0  3.44   3.0\n",
      "16       0  780.0  3.87   4.0\n",
      "17       0  360.0  2.56   3.0\n",
      "18       0  800.0  3.75   2.0\n",
      "19       1  540.0  3.81   1.0\n",
      "20       0  500.0  3.17   3.0\n",
      "21       1  660.0  3.63   2.0\n",
      "22       0  600.0  2.82   4.0\n",
      "23       0  680.0  3.19   4.0\n",
      "24       1  760.0  3.35   2.0\n",
      "25       1  800.0  3.66   1.0\n",
      "26       1  620.0  3.61   1.0\n",
      "27       1  520.0  3.74   4.0\n",
      "28       1  780.0  3.22   2.0\n",
      "29       0  520.0  3.29   1.0\n",
      "..     ...    ...   ...   ...\n",
      "370      1  540.0  3.77   2.0\n",
      "371      1  680.0  3.76   3.0\n",
      "372      1  680.0  2.42   1.0\n",
      "373      1  620.0  3.37   1.0\n",
      "374      0  560.0  3.78   2.0\n",
      "375      0  560.0  3.49   4.0\n",
      "376      0  620.0  3.63   2.0\n",
      "377      1  800.0  4.00   2.0\n",
      "378      0  640.0  3.12   3.0\n",
      "379      0  540.0  2.70   2.0\n",
      "380      0  700.0  3.65   2.0\n",
      "381      1  540.0  3.49   2.0\n",
      "382      0  540.0  3.51   2.0\n",
      "383      0  660.0  4.00   1.0\n",
      "384      1  480.0  2.62   2.0\n",
      "385      0  420.0  3.02   1.0\n",
      "386      1  740.0  3.86   2.0\n",
      "387      0  580.0  3.36   2.0\n",
      "388      0  640.0  3.17   2.0\n",
      "389      0  640.0  3.51   2.0\n",
      "390      1  800.0  3.05   2.0\n",
      "391      1  660.0  3.88   2.0\n",
      "392      1  600.0  3.38   3.0\n",
      "393      1  620.0  3.75   2.0\n",
      "394      1  460.0  3.99   3.0\n",
      "395      0  620.0  4.00   2.0\n",
      "396      0  560.0  3.04   3.0\n",
      "397      0  460.0  2.63   2.0\n",
      "398      0  700.0  3.65   2.0\n",
      "399      0  600.0  3.89   3.0\n",
      "\n",
      "[400 rows x 4 columns]\n"
     ]
    }
   ],
   "source": [
    "# student_data = pd.read_csv(\"students_data.csv\")\n",
    "student_data = pd.read_csv(\"https://raw.githubusercontent.com/DeepLearningVision-2019/a4-keras-classification-pabmacias/master/student_data.csv\")\n",
    "print(student_data)"
   ]
  },
  {
   "cell_type": "markdown",
   "metadata": {
    "colab_type": "text",
    "id": "3eOzurCBqq7z"
   },
   "source": [
    "Plot of the GRE and the GPA from the data."
   ]
  },
  {
   "cell_type": "code",
   "execution_count": 108,
   "metadata": {
    "colab": {
     "base_uri": "https://localhost:8080/",
     "height": 361
    },
    "colab_type": "code",
    "id": "_j3mgch1qq70",
    "outputId": "626668a6-0c90-4bda-92e6-e45563c981dc"
   },
   "outputs": [
    {
     "data": {
      "image/png": "[encoded data removed]",
      "text/plain": [
       "<Figure size 576x396 with 1 Axes>"
      ]
     },
     "metadata": {
      "tags": []
     },
     "output_type": "display_data"
    }
   ],
   "source": [
    "X = np.array(student_data[[\"gre\",\"gpa\"]])\n",
    "y = np.array(student_data[\"admit\"])\n",
    "admitted = X[np.argwhere(y==1)]\n",
    "rejected = X[np.argwhere(y==0)]\n",
    "plt.scatter([s[0][0] for s in rejected], [s[0][1] for s in rejected], s = 25, color = 'red', edgecolor = 'k')\n",
    "plt.scatter([s[0][0] for s in admitted], [s[0][1] for s in admitted], s = 25, color = 'cyan', edgecolor = 'k')\n",
    "plt.xlabel('Test (GRE)')\n",
    "plt.ylabel('Grades (GPA)')\n",
    "\n",
    "plt.show()"
   ]
  },
  {
   "cell_type": "markdown",
   "metadata": {
    "colab_type": "text",
    "id": "D2KcTzPjqq72"
   },
   "source": [
    "Plot of the data by class rank."
   ]
  },
  {
   "cell_type": "code",
   "execution_count": 109,
   "metadata": {
    "colab": {
     "base_uri": "https://localhost:8080/",
     "height": 640
    },
    "colab_type": "code",
    "id": "SBC3VQj_qq73",
    "outputId": "f426415f-968b-4603-fb6a-2f7eeeb3e088"
   },
   "outputs": [
    {
     "data": {
      "image/png": "[encoded data removed]",
      "text/plain": [
       "<Figure size 1440x720 with 4 Axes>"
      ]
     },
     "metadata": {
      "tags": []
     },
     "output_type": "display_data"
    }
   ],
   "source": [
    "f, plots = plt.subplots(2, 2, figsize=(20,10))\n",
    "plots = [plot for sublist in plots for plot in sublist]\n",
    "\n",
    "for idx, plot in enumerate(plots):\n",
    "    data_rank = student_data[student_data[\"rank\"]==idx+1]\n",
    "    plot.set_title(\"Rank \" + str(idx+1))\n",
    "    X = np.array(data_rank[[\"gre\",\"gpa\"]])\n",
    "    y = np.array(data_rank[\"admit\"])\n",
    "    admitted = X[np.argwhere(y==1)]\n",
    "    rejected = X[np.argwhere(y==0)]\n",
    "    plot.scatter([s[0][0] for s in rejected], [s[0][1] for s in rejected], s = 25, color = 'red', edgecolor = 'k')\n",
    "    plot.scatter([s[0][0] for s in admitted], [s[0][1] for s in admitted], s = 25, color = 'cyan', edgecolor = 'k')\n",
    "    plot.set_xlabel('Test (GRE)')\n",
    "    plot.set_ylabel('Grades (GPA)')\n",
    "    "
   ]
  },
  {
   "cell_type": "markdown",
   "metadata": {
    "colab_type": "text",
    "id": "cucth0Duqq75"
   },
   "source": [
    "#### TO DO: Preprocess the data\n",
    "\n",
    "1. Normalize the input data set\n",
    "2. Perform one hot encoding\n",
    "3. Create a train, test, and validation set"
   ]
  },
  {
   "cell_type": "code",
   "execution_count": 110,
   "metadata": {
    "colab": {
     "base_uri": "https://localhost:8080/",
     "height": 51
    },
    "colab_type": "code",
    "id": "OfPdhWIAGW6s",
    "outputId": "3bc92928-c982-4df6-ddd2-f744cc01627f"
   },
   "outputs": [
    {
     "name": "stdout",
     "output_type": "stream",
     "text": [
      "(400, 3)\n",
      "(400,)\n"
     ]
    }
   ],
   "source": [
    "student_data.fillna(0)\n",
    "\n",
    "mean_gre = student_data['gre'].mean(axis = 0)\n",
    "std_gre = student_data['gre'].std(axis = 0)\n",
    "\n",
    "mean_gpa = student_data['gpa'].mean(axis = 0)\n",
    "std_gpa = student_data['gpa'].std(axis = 0)\n",
    "\n",
    "rank = np.array(student_data[[\"rank\"]])\n",
    "\n",
    "student_data['gre'] -= mean_gre\n",
    "student_data['gre'] /= std_gre\n",
    "\n",
    "student_data['gpa'] -= mean_gpa\n",
    "student_data['gpa'] /= std_gpa\n",
    "\n",
    "data = np.array(student_data[[\"gre\",\"gpa\",\"rank\"]])\n",
    "labels = np.array(student_data[\"admit\"])\n",
    "\n",
    "train_data = data[320:]\n",
    "train_labels = labels[320:]\n",
    "\n",
    "validate_data = data[:80]\n",
    "validate_labels = labels[:80]\n",
    "\n",
    "print(data.shape)\n",
    "print(labels.shape)"
   ]
  },
  {
   "cell_type": "code",
   "execution_count": 0,
   "metadata": {
    "colab": {},
    "colab_type": "code",
    "id": "sTtA2veLIWnE"
   },
   "outputs": [],
   "source": [
    "def build_model():\n",
    "  model = models.Sequential()\n",
    "  model.add(layers.Dense(256, activation='relu', input_dim=3))\n",
    "  model.add(layers.Dense(256, activation='relu'))\n",
    "  \n",
    "  model.add(layers.Dense(1))\n",
    "  \n",
    "  # mean squared error\n",
    "  model.compile(optimizer='rmsprop', loss='mse', metrics=['mae'])\n",
    "  \n",
    "  return model"
   ]
  },
  {
   "cell_type": "code",
   "execution_count": 112,
   "metadata": {
    "colab": {
     "base_uri": "https://localhost:8080/",
     "height": 119
    },
    "colab_type": "code",
    "id": "tQ-VyDa5IYTs",
    "outputId": "6c032270-809e-4ccf-b628-09816caa42d9"
   },
   "outputs": [
    {
     "name": "stdout",
     "output_type": "stream",
     "text": [
      "Fold: 0\n",
      "Fold: 1\n",
      "Fold: 2\n",
      "Fold: 3\n",
      "80/80 [==============================] - 0s 112us/step\n",
      "test loss:  0.3409411430358887 test accuracy:  0.521298861503601\n"
     ]
    }
   ],
   "source": [
    "k = 4\n",
    "\n",
    "num_val_samples = len(train_data) // k\n",
    "\n",
    "all_mae_histories = []\n",
    "num_epochs = 500\n",
    "\n",
    "for i in range(k):\n",
    "  print(\"Fold:\", i)\n",
    "  val_data = train_data[i * num_val_samples : (i+1) * num_val_samples]\n",
    "  val_labels = train_labels[i * num_val_samples : (i+1) * num_val_samples]\n",
    "  \n",
    "  partial_train_data = np.concatenate([train_data[:i * num_val_samples],\n",
    "                                       train_data[(i+1) * num_val_samples:]], axis = 0)\n",
    "  \n",
    "  partial_train_labels = np.concatenate([train_labels[:i * num_val_samples],\n",
    "                                       train_labels[(i+1) * num_val_samples:]], axis = 0)\n",
    "  \n",
    "  model = build_model()\n",
    "  \n",
    "  history = model.fit(partial_train_data, partial_train_labels, epochs = num_epochs,\n",
    "                      validation_data = (val_data, val_labels), batch_size = 20, verbose = 0)\n",
    "  \n",
    "  all_mae_histories.append(history.history['val_mean_absolute_error'])\n",
    "  \n",
    "test_loss, test_acc = model.evaluate(validate_data, validate_labels)\n",
    "print(\"test loss: \", test_loss, \"test accuracy: \", test_acc)"
   ]
  }
 ],
 "metadata": {
  "accelerator": "TPU",
  "colab": {
   "collapsed_sections": [],
   "name": "Keras_assignment.ipynb",
   "provenance": [],
   "version": "0.3.2"
  },
  "kernelspec": {
   "display_name": "Python 3",
   "language": "python",
   "name": "python3"
  },
  "language_info": {
   "codemirror_mode": {
    "name": "ipython",
    "version": 3
   },
   "file_extension": ".py",
   "mimetype": "text/x-python",
   "name": "python",
   "nbconvert_exporter": "python",
   "pygments_lexer": "ipython3",
   "version": "3.6.7"
  }
 },
 "nbformat": 4,
 "nbformat_minor": 1
}
